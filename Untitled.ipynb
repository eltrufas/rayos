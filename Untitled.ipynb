{
 "cells": [
  {
   "cell_type": "code",
   "execution_count": 1,
   "id": "25af75b0",
   "metadata": {},
   "outputs": [],
   "source": [
    "import netCDF4 as nc"
   ]
  },
  {
   "cell_type": "code",
   "execution_count": 2,
   "id": "a6314db0",
   "metadata": {},
   "outputs": [],
   "source": [
    "ds = nc.Dataset('./goes12_4_2009_121_0015.temp.nc')"
   ]
  },
  {
   "cell_type": "code",
   "execution_count": 8,
   "id": "c64ace18",
   "metadata": {},
   "outputs": [
    {
     "data": {
      "text/plain": [
       "{'xc': <class 'netCDF4._netCDF4.Dimension'>: name = 'xc', size = 752,\n",
       " 'yc': <class 'netCDF4._netCDF4.Dimension'>: name = 'yc', size = 640,\n",
       " 'time': <class 'netCDF4._netCDF4.Dimension'>: name = 'time', size = 1,\n",
       " 'auditCount': <class 'netCDF4._netCDF4.Dimension'>: name = 'auditCount', size = 2,\n",
       " 'auditSize': <class 'netCDF4._netCDF4.Dimension'>: name = 'auditSize', size = 80}"
      ]
     },
     "execution_count": 8,
     "metadata": {},
     "output_type": "execute_result"
    }
   ],
   "source": [
    "ds.dimensions"
   ]
  },
  {
   "cell_type": "code",
   "execution_count": 9,
   "id": "9fbaf0e9",
   "metadata": {},
   "outputs": [
    {
     "ename": "NameError",
     "evalue": "name 'df' is not defined",
     "output_type": "error",
     "traceback": [
      "\u001b[0;31m---------------------------------------------------------------------------\u001b[0m",
      "\u001b[0;31mNameError\u001b[0m                                 Traceback (most recent call last)",
      "Input \u001b[0;32mIn [9]\u001b[0m, in \u001b[0;36m<cell line: 1>\u001b[0;34m()\u001b[0m\n\u001b[0;32m----> 1\u001b[0m \u001b[43mdf\u001b[49m[\u001b[38;5;124m'\u001b[39m\u001b[38;5;124mlat\u001b[39m\u001b[38;5;124m'\u001b[39m,\u001b[38;5;124m'\u001b[39m\u001b[38;5;124mlon\u001b[39m\u001b[38;5;124m'\u001b[39m]\n",
      "\u001b[0;31mNameError\u001b[0m: name 'df' is not defined"
     ]
    }
   ],
   "source": [
    "df['lat','lon']"
   ]
  }
 ],
 "metadata": {
  "kernelspec": {
   "display_name": "Python 3 (ipykernel)",
   "language": "python",
   "name": "python3"
  },
  "language_info": {
   "codemirror_mode": {
    "name": "ipython",
    "version": 3
   },
   "file_extension": ".py",
   "mimetype": "text/x-python",
   "name": "python",
   "nbconvert_exporter": "python",
   "pygments_lexer": "ipython3",
   "version": "3.10.5"
  }
 },
 "nbformat": 4,
 "nbformat_minor": 5
}
